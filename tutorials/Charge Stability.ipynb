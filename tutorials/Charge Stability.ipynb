{
 "cells": [
  {
   "cell_type": "markdown",
   "metadata": {},
   "source": [
    "# QuDiPy tutorial: using the charge stability module\n",
    "\n",
    "This tutorial will show how to use the charge stability module to generate a charge stability diagram using the constant interaction model and then perform the Hough transformation.\n",
    "\n",
    "In order for the file to not be too large, the output of the cells has been cleared so you will need to run the cells on your local machine to see the output.\n",
    "\n",
    "## 1. Add the current location to path\n",
    "In order for this tutorial to work, you will need to run this from the tutorials folder."
   ]
  },
  {
   "cell_type": "code",
   "execution_count": null,
   "metadata": {},
   "outputs": [],
   "source": [
    "import os, sys\n",
    "sys.path.append(os.path.dirname(os.getcwd()))"
   ]
  },
  {
   "cell_type": "markdown",
   "metadata": {},
   "source": [
    "## 2. Import the relevant modules and set plotting parameters"
   ]
  },
  {
   "cell_type": "code",
   "execution_count": null,
   "metadata": {},
   "outputs": [],
   "source": [
    "#From module\n",
    "import qudipy.chargestability.csd_cim as cim\n",
    "import qudipy.chargestability.csd_analysis as an\n",
    "#For data maniupulation\n",
    "import numpy as np\n",
    "import pandas as pd\n",
    "#For plotting\n",
    "import seaborn as sb\n",
    "import matplotlib.pyplot as plt\n",
    "#Makes plots bigger (optional)\n",
    "%matplotlib inline \n",
    "plt.rcParams['figure.figsize'] = [12, 9]"
   ]
  },
  {
   "cell_type": "markdown",
   "metadata": {},
   "source": [
    "## 3. Specify the capacitance of the system you wish to simulate and then initialize the charge stability diagram object\n",
    "In this tutorial, we will be simulating a double quantum dot system. The parameters follow the naming convention of https://doi.org/10.1103/RevModPhys.75.1. \n",
    "The first three parameters are the coupling of the first dot to the left resevoir, $C_l$, the coupling of the second dot to the right resevoir, $C_r$ and the coupling between the dots $C_m$.\n",
    "The next two parameters are capacitances between gates and dots. $C_{g1}$ is the coupling between dot 1 the plunger gate $V_1$ and $C_{g2}$ is the coupling between dot 2 the plunger gate $V_2$.\n",
    "These parameters are all that is required to define the system."
   ]
  },
  {
   "cell_type": "code",
   "execution_count": null,
   "metadata": {},
   "outputs": [],
   "source": [
    "# Dot capacitances\n",
    "c_l = 51 * 10**-18\n",
    "c_r = 50 * 10**-18\n",
    "c_m = 5 * 10**-18\n",
    "# Dot-to-gate capacitances\n",
    "c_g1 = 1 * 10**-18\n",
    "c_g2 = 1 * 10**-18\n",
    "# Initialize Object\n",
    "csd = cim.CIMCSD(c_l, c_r, c_m, c_g1, c_g2)"
   ]
  },
  {
   "cell_type": "markdown",
   "metadata": {},
   "source": [
    "## 4. Generate the charge stability diagram\n",
    "The parameters used to generate the charge stability diagram are as follows:\n",
    "- `num`: Number of points to sweep each plunger voltage by. The resulting charge stability diagram will by `num` by `num` in size;\n",
    "- `v1(2)_max`: Maximum voltage to sweep gate 1(2) to. By default, both voltages start at 0 volts, but this can be changed using a keyword argument.\n",
    "\n",
    "This will generate occupations as a function of voltage.\n"
   ]
  },
  {
   "cell_type": "code",
   "execution_count": null,
   "metadata": {},
   "outputs": [],
   "source": [
    "# Generate charge stability diagram\n",
    "num = 100\n",
    "v1_max = 0.15\n",
    "v2_max = 0.15\n",
    "\n",
    "csd.generate_csd(v1_max, v2_max, num=num)"
   ]
  },
  {
   "cell_type": "markdown",
   "metadata": {},
   "source": [
    "## 5. Plot the resulting diagram\n",
    "\n",
    "In order to plot this charge stability diagram, we must then pass this object to the the CSDAnalysis object.\n",
    "\n",
    "To simulate real experimental results, we can pass a list of capacitances from each dot to the charge sensor. This list dictates how much a change in the charge of one dot will change the current passing through a charge sensor. The scale of this current is arbitrary (and large in this case since the sensor capacitances are large), but simulates what would be seen in an experiment. \n",
    "\n",
    "If you do not pass any capacitance vector, then a colorbar will be created that maps each charge occupation to a unique color. In this case, since the colors are physically meaningless, no derivative of the charge stability diagram will be done and further analysis cannot be completed.\n",
    "\n",
    "In addition, in order to simulate real experiments with broadened transmission lines, when generating a charge stability diagram you can add an artificial Gaussian blur by setting the optional blur flag to True and specifying a non-zero `blur_sigma`, which is related to the standard deviation of the Gaussian used in the filter, which large `sigma_blur` means more blur. \n",
    "\n",
    "For an explanation of the second plot that is printed, see the next section."
   ]
  },
  {
   "cell_type": "code",
   "execution_count": null,
   "metadata": {},
   "outputs": [],
   "source": [
    "# Initialize the CSDAnalysis object, specifying capacitances and the blurring on the data to be done\n",
    "c_cs_1 = 1\n",
    "c_cs_2 = 1.5\n",
    "csd_an = an.CSDAnalysis(csd, capacitances=[c_cs_1, c_cs_2], blur_sigma=1)\n",
    "csd_an.plot(derivative=True)"
   ]
  },
  {
   "cell_type": "markdown",
   "metadata": {},
   "source": [
    "## 6. Find the edges of the charge stability diagram\n",
    "In order for the Hough transform to be used, we need to have a bitmap of where edges are and aren't in the image. So, we need to run some pre-processing to first find the edges, and then transform that map of edges into a bitmap.\n",
    "\n",
    "In order to find the edges, we can take the derivative of the above charge stability diagram. This is done automatically when csd_an is initialized, if a list of capacitances is provided. This derivative is the second plot in the cell above.\n",
    "\n",
    "## 7. Create bitmap from edge data\n",
    "From that derivative image, we can create a bitmap."
   ]
  },
  {
   "cell_type": "code",
   "execution_count": null,
   "metadata": {
    "tags": []
   },
   "outputs": [],
   "source": [
    "# Generate the bitmap\n",
    "csd_an.generate_bitmap(98, threshold_type='percentile', plotting=True)"
   ]
  },
  {
   "source": [
    "Note that in an actual experiment, the data won't be so clean, so there will be some additional noise. Fortunately, the Hough transform is relatively robust to random noise, but a more quantitative assessment is necessary before deployment. In addition, there is a threshold parameter in the bitmap generation function that allows any noise below a certain level to be ignored, which can help clean up some data as well.\n",
    "\n",
    "For the purposes of this tutorial, I  will be artificially adding noise to this bitmap to demonstrate that the Hough transform still perfroms as intended. However, in practice this would not be required (since the data will already be noisy)."
   ],
   "cell_type": "markdown",
   "metadata": {}
  },
  {
   "cell_type": "code",
   "execution_count": null,
   "metadata": {},
   "outputs": [],
   "source": [
    "\n",
    "# Adding artificial noise (Will not be needed in practice)\n",
    "np.random.seed(469230) # fix seed for reproducibility\n",
    "\n",
    "noise = np.random.rand(*csd_an.csd_bitmap.shape) \n",
    "error = 0.05 # error rate of 5%\n",
    "\n",
    "for index, value in np.ndenumerate(noise):\n",
    "    noise[index] = 1 if value < error else 0\n",
    "\n",
    "noise_df = csd_an.csd_bitmap.copy()\n",
    "noise_df[:] = noise\n",
    "\n",
    "csd_an.csd_bitmap = csd_an.csd_bitmap + noise_df\n",
    "\n",
    "r = sb.heatmap(csd_an.csd_bitmap, cbar=True, xticklabels=int(num/5), yticklabels=int(num/5), vmax=1)\n",
    "r.axes.invert_yaxis()\n",
    "r.set(xlabel=r'V$_1$', ylabel=r'V$_2$')\n",
    "plt.show()"
   ]
  },
  {
   "cell_type": "markdown",
   "metadata": {},
   "source": [
    "Now all the data points that are 0 are set to be ignored when we perform the Hough transform and all the non-zero ones will be included.\n",
    "\n",
    "## 8. Perform the Hough transform\n",
    "\n",
    "For some background on the Hough transform, see the wikipedia article (https://en.wikipedia.org/wiki/Hough_transform, Theory and Examples section were most useful for me) and this tutorial that I found particularily useful (https://alyssaq.github.io/2014/understanding-hough-transform/)\n",
    "\n"
   ]
  },
  {
   "cell_type": "code",
   "execution_count": null,
   "metadata": {
    "tags": []
   },
   "outputs": [],
   "source": [
    "# Function which performs the Hough transform\n",
    "accumulator, thetas, rhos = csd_an.hough_transform(plotting=True, theta_min=0)"
   ]
  },
  {
   "cell_type": "markdown",
   "metadata": {},
   "source": [
    "The spots where the counts in the color bar are the highest places where lines fit the best. We can see that there are 4 peaks. These correspond to the 4 large occupation transitions seen in the earlier charge stability diagram.\n",
    "We can convert from these polar coordinates to the normal slope and intercept using $m = \\frac{-\\text{cos}(\\theta)}{\\text{sin}(\\theta)}$ and $b = \\frac{\\rho}{\\text{sin}(\\theta)}$.\n",
    "\n",
    "## 9. Peak Finding & Clustering\n",
    "\n",
    "Next, we need to figure out where the peaks are in order to extract the best fitting lines. In order to do this, we first apply a threshold to function to the Hough transformed result, discarding the pixels in the accumulator with a low amount of votes."
   ]
  },
  {
   "cell_type": "code",
   "execution_count": null,
   "metadata": {},
   "outputs": [],
   "source": [
    "# Function which does the thresholding\n",
    "accumulator_threshold = csd_an.threshold_hough_accumulator(threshold=99.85, threshold_type='percentile', plotting=True)"
   ]
  },
  {
   "cell_type": "markdown",
   "metadata": {},
   "source": [
    "From the above thresholded accumulator, we can cluster them into groups, determine the centroid of each group and use that location to convert into the slope and intercept then get the lines which correctly fit the charge stability diagram.\n",
    "\n",
    "The clustering algorithm is DBSCAN in the scikit module, whose documentation can be found at (https://scikit-learn.org/stable/modules/generated/sklearn.cluster.DBSCAN.html). The two parameters passed to the hough_clusters function, eps and min_samples, are diretly passed to the clustering algorithm and the results of the clustering algorithm are highly dependent on those parameters, so it is important to understand what they are for optimal performance, so I recommend looking at the documentation linked above."
   ]
  },
  {
   "cell_type": "markdown",
   "metadata": {},
   "source": []
  },
  {
   "cell_type": "code",
   "execution_count": null,
   "metadata": {},
   "outputs": [],
   "source": [
    "# Parameters corresponding to scanning radius and minimum number of samples in scanning radius\n",
    "# See link to docs in paragraph above for more information\n",
    "eps = 2.5\n",
    "min_samples = 2\n",
    "\n",
    "centroids = csd_an.hough_cluster(eps, min_samples, plotting=True)"
   ]
  },
  {
   "cell_type": "markdown",
   "metadata": {},
   "source": [
    "Once the clustering is done, we discard the clusters which are simply noise as opposed to a real signal and use those to create the lines we use to demarcate the charge transition regions. This can be done by the function call below."
   ]
  },
  {
   "cell_type": "code",
   "execution_count": null,
   "metadata": {
    "tags": []
   },
   "outputs": [],
   "source": [
    "csd_an.plot_csd_with_lines()"
   ]
  },
  {
   "cell_type": "markdown",
   "metadata": {},
   "source": [
    "We can see that the fitted lines do a pretty good job of retracing the charge transitions lines.\n",
    "\n",
    "## 10. Extracting Triple Points\n",
    "\n",
    "Next we would like to identify not only the lines of charge transitions but also find the location of the triple points. These points are not only useful to know in it of themselves, but they will also allow us to construct the shorter transition (the (1,0)-(0,1) transition in this case) line between them that is hard to identify directly using the Hough transformations since it is short relative to the other lines here. Furthermore, it will allow us to know where the long line transitions in the previous figure are meant to end.\n",
    "\n",
    "To do this, we do the two function calls in the cell below. Note that these two functions are not general, so this will only work correctly in the case of a charge stability diagram with 4 charge regions similar to the one that was generated for this example."
   ]
  },
  {
   "cell_type": "code",
   "execution_count": null,
   "metadata": {
    "tags": []
   },
   "outputs": [],
   "source": [
    "triple_points = csd_an.find_tripletpoints()\n",
    "csd_an.plot_triple_points()"
   ]
  },
  {
   "cell_type": "markdown",
   "metadata": {},
   "source": [
    "As we can see, the triple points and line transitions are properly characterized in this case."
   ]
  },
  {
   "cell_type": "code",
   "execution_count": null,
   "metadata": {},
   "outputs": [],
   "source": []
  }
 ],
 "metadata": {
  "language_info": {
   "codemirror_mode": {
    "name": "ipython",
    "version": 3
   },
   "file_extension": ".py",
   "mimetype": "text/x-python",
   "name": "python",
   "nbconvert_exporter": "python",
   "pygments_lexer": "ipython3",
   "version": "3.8.1-final"
  },
  "orig_nbformat": 2,
  "kernelspec": {
   "name": "python38164bit7d9328e44e4c4f40a94d676128d856d7",
   "display_name": "Python 3.8.1 64-bit",
   "language": "python"
  }
 },
 "nbformat": 4,
 "nbformat_minor": 2
}