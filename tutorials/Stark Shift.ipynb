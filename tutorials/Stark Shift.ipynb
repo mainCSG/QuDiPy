{
 "metadata": {
  "language_info": {
   "codemirror_mode": {
    "name": "ipython",
    "version": 3
   },
   "file_extension": ".py",
   "mimetype": "text/x-python",
   "name": "python",
   "nbconvert_exporter": "python",
   "pygments_lexer": "ipython3",
   "version": "3.8.1-final"
  },
  "orig_nbformat": 2,
  "kernelspec": {
   "name": "python38164bit7d9328e44e4c4f40a94d676128d856d7",
   "display_name": "Python 3.8.1 64-bit",
   "language": "python"
  }
 },
 "nbformat": 4,
 "nbformat_minor": 2,
 "cells": [
  {
   "source": [
    "# QuDiPy tutorial: Using the Stark shift module\n",
    "\n",
    "This tutorial will show how to use the Strak shift module to determine the deviation in $g$-factor arising from an applied electric field in the z-direction, where the plane of a device would be in the xy-plane.\n",
    "\n",
    "In this tutorial, we will be defining the potential and the electric field that the dot(s) reside in analytically and therefore the xy-confining potential and the z-direction electric field will be decoupled. However, in practice with NextNano potentials, these two values will not be decoupled. The goal is to make this tutorial with NextNano potentials in due time.\n",
    "\n",
    "Additionally, a wavefunction approximating the ground state wavefunction in each dot must be provided. This fixed wavefunction is then used in a varying electric field to calculate the $g$-factor deviation. This is an approximation since the gorund state wavefunction will be slightly perturbed when gate voltages are changed. In the future, we hope to implement a many-body electron wavefunction which would allow us to bypass this step and give us a more accurate value for the $g$-factor for each electron.\n",
    "\n",
    "In order for the file to not be too large, the output of the cells has been cleared so you will need to run the cells on your local machine to see the output.\n",
    "\n",
    "## 1. Add the current location to path\n",
    "In order for this tutorial to work, you will need to run this from the tutorials folder."
   ],
   "cell_type": "markdown",
   "metadata": {}
  },
  {
   "cell_type": "code",
   "execution_count": null,
   "metadata": {},
   "outputs": [],
   "source": [
    "import os, sys\n",
    "sys.path.append(os.path.dirname(os.getcwd()))"
   ]
  },
  {
   "source": [
    "## 2. Import the relevant modules"
   ],
   "cell_type": "markdown",
   "metadata": {}
  },
  {
   "cell_type": "code",
   "execution_count": null,
   "metadata": {},
   "outputs": [],
   "source": [
    "# From module\n",
    "import qudipy as qd\n",
    "import qudipy.potential as pot\n",
    "import qudipy.qutils as qt\n",
    "import qudipy.starkshift as ss\n",
    "\n",
    "# From external libraries\n",
    "import numpy as np\n",
    "import matplotlib.pyplot as plt"
   ]
  },
  {
   "source": [
    "## 3. Define the potential\n",
    "\n",
    "Here, we will use a bi-quadratic well as a potential for a double-dot system. The potentials are plotted below for us to confirm that it looks reasonable.\n"
   ],
   "cell_type": "markdown",
   "metadata": {}
  },
  {
   "cell_type": "code",
   "execution_count": null,
   "metadata": {},
   "outputs": [],
   "source": [
    "# Define constant for this material\n",
    "consts=qd.Constants(\"Si/SiO2\")\n",
    "\n",
    "# Create control voltage names and variables the same way you would normally\n",
    "ctrl_names = ['V1', 'V2']\n",
    "\n",
    "V1 = [0.2, 0.22, 0.24, 0.26, 0.28]\n",
    "V2 = [0.2, 0.22, 0.24, 0.26, 0.28]\n",
    "\n",
    "ctrl_vals = [V1, V2]\n",
    "\n",
    "# Specify the separation between dots (actual separation will be twice this number)\n",
    "dot_sep = 150e-9\n",
    "\n",
    "# Specify the x and y points you would like to have in a grid\n",
    "x = np.arange(-2 * dot_sep, 2 * dot_sep, dot_sep/30)\n",
    "y = np.arange(-2 * dot_sep, 2 * dot_sep, dot_sep/30)\n",
    "\n",
    "# Create GridParams object\n",
    "gparams = pot.GridParameters(x, y)\n",
    "\n",
    "def create_potentials(cvals, gparams):\n",
    "    # Get coordinates from mesh\n",
    "    x_pot = gparams.x_mesh\n",
    "    y_pot = gparams.y_mesh\n",
    "\n",
    "    # Get voltages out from the control valriables\n",
    "    v_1 = cvals[0]\n",
    "    v_2 = cvals[1]\n",
    "\n",
    "    # Convert (linear conversion) from voltages to chemical potentials\n",
    "    # This is just a linear relationship with a dummy lever arm\n",
    "    lever_arm_1 = 1\n",
    "    mu_1 = v_1 * lever_arm_1 * consts.e\n",
    "    lever_arm_2 = 1\n",
    "    mu_2 = v_2 * lever_arm_2 * consts.e\n",
    "\n",
    "    # Define frequency of harmonic oscillators\n",
    "    omega_1 = 5e12\n",
    "    omega_2 = 5e12\n",
    "\n",
    "    # Define the potential\n",
    "    well_1 = 1/2 * consts.me * omega_1**2 * (np.square(x_pot + dot_sep) + np.square(y_pot)) - mu_1\n",
    "    well_2 = 1/2 * consts.me * omega_2**2 * (np.square(x_pot - dot_sep) + np.square(y_pot)) - mu_2\n",
    "    potential = np.minimum(well_1, well_2)\n",
    "    return potential\n",
    "\n",
    "# Create the analytical potential using the variables defined above\n",
    "analytic_potential = pot.load_data.analytical_potential(ctrl_vals, ctrl_names, create_potentials, x, y)\n",
    "\n",
    "# Use the analytic potential to build an interpolator\n",
    "pot_interp = pot.build_interpolator(analytic_potential, constants=qd.Constants(\"Si/SiO2\"))\n",
    "\n",
    "# Plot potential to verify it makes sense\n",
    "pot_interp.plot([0.25, 0.25])\n",
    "pot_interp.plot([0.25, 0.25], plot_type='1D', y_slice=0)"
   ]
  },
  {
   "source": [
    "## 4. Define the electric field\n",
    "\n",
    "We then do something similar for the electric field that we did for the potential. In this case, we define an analytical electric field that is the combination of two lines of charge above the location of the minima of the potential wells, where each control variable controls the charge denisty along each line. Although this isn't an entirely accurate model of two plunger gates over a double dot system, it allows us to see whether changing the voltage on one side of the double dot system changes the electron $g$-factor on the same side more than the other side as we would expect.\n",
    "\n",
    "It is necessary that the electric field has the same control parameters as the potential landscape."
   ],
   "cell_type": "markdown",
   "metadata": {}
  },
  {
   "cell_type": "code",
   "execution_count": null,
   "metadata": {},
   "outputs": [],
   "source": [
    "def e_field(cvals, gparams):\n",
    "    # Get coordinates from mesh\n",
    "    x_e = gparams.x_mesh\n",
    "    y_e = gparams.y_mesh\n",
    "\n",
    "    # Get voltages out from the control valriables\n",
    "    v_1 = cvals[0]\n",
    "    v_2 = cvals[1]\n",
    "\n",
    "    # Convert (linear conversion) from volrages to chemical potentials\n",
    "    # This is just a linear relationship\n",
    "    # The lever arms are set arbitrarily so that the e-field is comprable to that in the literature\n",
    "    lever_arm_1 = 3e-9\n",
    "    lamb_1 = v_1 * lever_arm_1\n",
    "\n",
    "    lever_arm_2 = 3e-9\n",
    "    lamb_2 = v_2 * lever_arm_2\n",
    "    \n",
    "    # Define the electric field\n",
    "    e_field = lamb_1 / (2 * consts.pi * consts.eps * np.sqrt((x_e + dot_sep)**2 + (100e-9)**2)) + lamb_2 / (2 * consts.pi * consts.eps * np.sqrt((x_e - dot_sep)**2 + (100e-9)**2))\n",
    "    return e_field\n",
    "\n",
    "# Create the analytical electric using the variables defined above\n",
    "analytic_e_field = pot.load_data.analytical_potential(ctrl_vals, ctrl_names, e_field, x, y)\n",
    "\n",
    "# Use the analytic electric field to build an interpolator\n",
    "e_interp = pot.build_interpolator(analytic_e_field, constants=qd.Constants(\"Si/SiO2\"))\n",
    "\n",
    "# Plot potential to verify it makes sense\n",
    "e_interp.plot([0.25, 0.25])"
   ]
  },
  {
   "source": [
    "## 5. Calculate wavefunctions\n",
    "\n",
    "Next, we must determine what the ground state wavefunction of each dot is. As stated in the introduction of this tutorial, the hope is that eventually this process can be done automatically, but for the time being this must be done manually.\n",
    "\n",
    "In order to accomplish this, we simply detune the dot system so that the single electron Schrödinger equation solver gives us the correct ground state of each individual dot."
   ],
   "cell_type": "markdown",
   "metadata": {}
  },
  {
   "cell_type": "code",
   "execution_count": null,
   "metadata": {},
   "outputs": [],
   "source": [
    "# Detune the system so the formation of the left dot is favored\n",
    "new_pot = pot_interp([0.26, 0.25])\n",
    "gparams.update_potential(new_pot)\n",
    "\n",
    "# Solve Schrodinger equation and get the ground state wavefunction\n",
    "e_ens, e_vecs = qt.solvers.solve_schrodinger_eq(consts, gparams, n_sols=1)\n",
    "wavefunc_1 = e_vecs[:,:,0] # This is the ground state in the left dot\n",
    "\n",
    "# Detune the system so the formation of the right dot is favored\n",
    "new_pot = pot_interp([0.25, 0.26])\n",
    "gparams.update_potential(new_pot) # This is the ground state in the right dot\n",
    "\n",
    "# Solve Schrodinger equation and get the ground state wavefunction\n",
    "e_ens, e_vecs = qt.solvers.solve_schrodinger_eq(consts, gparams, n_sols=1)\n",
    "wavefunc_2 = e_vecs[:,:,0]\n",
    "\n",
    "# Put these wavefunctions into a list to pass as a parameter for later\n",
    "wavefuncs = [wavefunc_1, wavefunc_2]"
   ]
  },
  {
   "source": [
    "## 6. Calculate Stark shift\n",
    "\n",
    "Now that we have all of the preliminaries in place, we can calculate the Stark shift of each electron in the system.\n",
    "\n",
    "We initialise a ```StarkShift``` object with the grid parameters and consts we used earlier on and then pass the electric field interpolator, the control parameter vavlues to use, the control names and the ground state wavefucntions we calculated. The output of the ```delta_g``` is a pandas DataFrame, with columns for each control variable and each the variation in $g$ for each electron in question."
   ],
   "cell_type": "markdown",
   "metadata": {}
  },
  {
   "cell_type": "code",
   "execution_count": null,
   "metadata": {},
   "outputs": [],
   "source": [
    "# Now specify the potentials to interpolate around\n",
    "v_vec = [[0.25, 0.25], [0.26, 0.25], [0.27, 0.25]]\n",
    "\n",
    "\n",
    "# Calculate delta_g with gridparams, wavefunction and electric field and print result\n",
    "stark_shift = ss.starkshift.StarkShift(gparams, consts)\n",
    "delta_g = stark_shift.delta_g(e_interp, v_vec, ctrl_names, wavefuncs=wavefuncs)\n",
    "print(delta_g)"
   ]
  },
  {
   "source": [
    "We can see that as we increase ```V1``` (the applied voltage over the left dot), ```delta_g_1``` increases. This is the expected behavior. ```delta_g_2``` alo increases, but less than ```delta_g_1```. This makes sense since the second dot is farther away from the increasing voltage of the first plunger gate, but there is still so cross coupling."
   ],
   "cell_type": "markdown",
   "metadata": {}
  }
 ]
}