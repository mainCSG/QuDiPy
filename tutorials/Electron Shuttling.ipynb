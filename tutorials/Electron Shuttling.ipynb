{
 "cells": [
  {
   "cell_type": "markdown",
   "metadata": {},
   "source": [
    "# Electron Shuttling\n",
    "\n",
    "This tutorial will show how to simulate electron shuttling using QuDiPy.  We will show you can build an example shuttling pulse and subsequently simulate electron shuttling through a triple quantum dot chain.\n",
    "\n",
    "## 1. Load relevant modules and add the current location to path"
   ]
  },
  {
   "cell_type": "code",
   "execution_count": null,
   "metadata": {},
   "outputs": [],
   "source": [
    "import os, sys\n",
    "sys.path.append(os.path.dirname(os.getcwd()))\n",
    "import qudipy as qd\n",
    "import numpy as np\n",
    "import qudipy.potential as pot\n",
    "import qudipy.shuttling as shut"
   ]
  },
  {
   "cell_type": "markdown",
   "metadata": {},
   "source": [
    "## 2. Load potential files\n",
    "\n",
    "We need to first construct a `PotentialInterpolator` object from some pre-processed potential files (i.e. potentials that have already been exported fron nextnano into a csv file containing a 2D potential slice). The potentials we are loading correspond to a 5-quantum dot linear chain system where each dot in the chain is formed by a single plunger gate labelled *V#*. The gap between plunger gates forms a tunnel barrier between neighboring quantum dots. For our simulations, the outer-most plunger gate voltages remain fixed, and we will only shuttle an electron through the middle three dots using plunger gates *V2*, *V3*, and *V4*.\n",
    "\n",
    "Please refer to the Loading Potentials tutorial for more information on loading potentials."
   ]
  },
  {
   "cell_type": "code",
   "execution_count": null,
   "metadata": {},
   "outputs": [],
   "source": [
    "# Load preprocessed potential files from the potentail folder\n",
    "pot_dir = os.path.dirname(os.getcwd()) + '/tutorials/QuDiPy tutorial data/Pre-processed potentials/'\n",
    "    \n",
    "# Specify the control voltage names (C#NAME as mentioned above)\n",
    "ctrl_names = ['V1','V2','V3','V4','V5']\n",
    "\n",
    "# Specify the control voltage values you wish to load.\n",
    "# The cartesian product of all these supplied voltages will be loaded and MUST exist in the directory.\n",
    "V1 = [0.1]\n",
    "V2 = [0.2, 0.22, 0.24, 0.26, 0.27, 0.28]\n",
    "V3 = [0.2, 0.22, 0.24, 0.26, 0.27, 0.28]\n",
    "V4 = [0.2, 0.22, 0.24, 0.26, 0.27, 0.28]\n",
    "V5 = [0.1]\n",
    "# Add all voltage values to a list\n",
    "ctrl_vals = [V1, V2, V3, V4, V5]    \n",
    "\n",
    "# Now load the potentials.  \n",
    "# load_files returns a dictionary of all the information loaded\n",
    "loaded_data = pot.load_potentials(ctrl_vals, ctrl_names, f_type='pot', \n",
    "                                  f_dir=pot_dir, f_pot_units=\"eV\", \n",
    "                                  f_dis_units=\"nm\", trim_x=[-120E-9,120E-9])\n",
    "\n",
    "# Now building the interpolator object is trivial\n",
    "# Note the use of y-slice here which builds a 1D potential \n",
    "# interpolator at y=0 for all potentials.\n",
    "pot_interp = pot.build_interpolator(loaded_data, \n",
    "                                    constants=qd.Constants(\"Si/SiO2\"),\n",
    "                                    y_slice=0)"
   ]
  },
  {
   "cell_type": "markdown",
   "metadata": {},
   "source": [
    "## 3. Building the shuttling control pulse\n",
    "\n",
    "Now, we need to actually construct a control pulse to shuttle an electron across our triple quantum dot chain. We will initialize the electron in the leftmost dot underneath *V2* and subsequently shuttle the electron to be underneath *V3* and finally *V4*. For simplicity, we will only vary a single plunger gate voltage at a time.\n",
    "\n",
    "To start then, we will define the initial voltage configuration of the pulse."
   ]
  },
  {
   "cell_type": "code",
   "execution_count": null,
   "metadata": {},
   "outputs": [],
   "source": [
    "# Define some min and max voltage values\n",
    "min_v = 0.2\n",
    "max_v = 0.278\n",
    "\n",
    "# Specify the first point.\n",
    "pt1 = [max_v, min_v, min_v]\n",
    "pot_interp.plot(pt1, show_wf=True)"
   ]
  },
  {
   "cell_type": "markdown",
   "metadata": {},
   "source": [
    "We can see that at the start of the pulse the electron is localized in the 2nd quantum dot in the chain, underneath *V2*. The next step in constructing the pulse is to sweep *V3* to the resonant tunnel coupling point between dots 2 and 3. This can be done using the `.find_resonant_tc()` method of the `potentialInterpolator` object `pot_interp`. This method varies a specified control variable (in this case, we will vary *V3*) until it finds the point where the electron wavefunciton is equally localized between the two dots.\n",
    "\n",
    "In order to remain adiabatic (in the ground state) as we apply our control pulse, *V3* must be swept slowly enough as to not excite out simulated wavefunction into higher orbital states. Near the resonant tunnel coupling point, this is a greater concern as the energy spectrum of the system Hamiltonian at that time is the smallest.  However, further away from the resonant tunnel coupling point, we can sweep *V3* much faster. So we will slightly 'shape' our pulse a bit by quickly ramping *V3* until we get close to the resonant tunnel coupling point at which we will sweep slower."
   ]
  },
  {
   "cell_type": "code",
   "execution_count": null,
   "metadata": {},
   "outputs": [],
   "source": [
    "# First use find_resonant_tc to find the resonant tunnel coupling point.\n",
    "# We pass in a voltage vector specifying the voltage values for the\n",
    "# rest of the control variables and then specify which control variable\n",
    "# we wish to vary when searching for a resonant tunnel coupling point.\n",
    "res_vv = pot_interp.find_resonant_tc(pt1, 'V3')\n",
    "\n",
    "# Find the voltage configuration close to the resonant tunnel coupling point.\n",
    "almost_res_vv = res_vv - 0.035 * (max_v - min_v)\n",
    "pt2 = pt1.copy()\n",
    "pt2[1] = almost_res_vv\n",
    "pot_interp.plot(pt2, show_wf=True)\n",
    "\n",
    "# Find the voltage configuration right at the resonant tunnel coupling point\n",
    "pt3 = pt2.copy()\n",
    "pt3[1] = res_vv\n",
    "pot_interp.plot(pt3, show_wf=True)"
   ]
  },
  {
   "cell_type": "markdown",
   "metadata": {},
   "source": [
    "Now we can start to get a better feel for how the electron should evolve according to the pulse. Notice that at the second voltage configuration `pt2`, there is a very very small hump starting to form underneath *V3* indicating we are nearing the resonant tunnel coupling point. At the resonant tunnel coupling point `pt3`, the electron is equally split between the second and third dots in the chain. \n",
    "\n",
    "From here, we will repeat the same procedure, but in reverse with *V2* in order to fully localize the electron underneath *V3*."
   ]
  },
  {
   "cell_type": "code",
   "execution_count": null,
   "metadata": {},
   "outputs": [],
   "source": [
    "# Sweep V1 to the close to resonant tunnel coupling voltage configuration\n",
    "pt4 = pt3.copy()\n",
    "pt4[0] = almost_res_vv*1.01\n",
    "pot_interp.plot(pt4, show_wf=True)\n",
    "\n",
    "# Sweep V1 to the minimum voltage to full localize the dot underneath V3.\n",
    "pt5 = pt4.copy()\n",
    "pt5[0] = min_v\n",
    "pot_interp.plot(pt5, show_wf=True)"
   ]
  },
  {
   "cell_type": "markdown",
   "metadata": {},
   "source": [
    "Now that we have done one dot-to-dot transfer the next one follows the same procedure. We omit plotting the wavefunciton at each voltage configuration except for the final one."
   ]
  },
  {
   "cell_type": "code",
   "execution_count": null,
   "metadata": {},
   "outputs": [],
   "source": [
    "# Find resonant tunnel coupling point w.r.t. V4\n",
    "res_vv = pot_interp.find_resonant_tc(pt5, 'V4')\n",
    "\n",
    "# Sweep V4 to almost the resonant tunnel coupling point\n",
    "pt6 = pt5.copy()\n",
    "pt6[2] = almost_res_vv*1.01\n",
    "\n",
    "# Sweep V4 to the resonant tunnel coupling point\n",
    "pt7 = pt6.copy()\n",
    "pt7[2] = res_vv\n",
    "\n",
    "# Sweep V3 to almost the resonant tunnel coupling point\n",
    "pt8 = pt7.copy()\n",
    "pt8[1] = almost_res_vv\n",
    "\n",
    "# Sweep V3 to the minimum voltage and fully localize\n",
    "# the electron underneath V4\n",
    "pt9 = pt8.copy()\n",
    "pt9[1] = min_v\n",
    "pot_interp.plot(pt9, show_wf=True)"
   ]
  },
  {
   "cell_type": "markdown",
   "metadata": {},
   "source": [
    "Now we have 9 voltage configurations that roughly outline our control pulse. However, the next step of the process is to actuall build a `ControlPulse` object with these voltage configurations. To do so, we will first compile all of the configurations into a single 2D array and also construct a time array to indicate at what time point each voltage configuration should occur."
   ]
  },
  {
   "cell_type": "code",
   "execution_count": null,
   "metadata": {},
   "outputs": [],
   "source": [
    "# Assemble all the voltage configurations into a 2D array\n",
    "shuttle_pulse = np.array([pt1, pt2, pt3, pt4, pt5, pt6, pt7, pt8, pt9])\n",
    "\n",
    "# Specify the total overall length of the control pulse in seconds\n",
    "pulse_length = 10E-12 # 10 ps\n",
    "# Initialize a ControlPulse with name 'shuttle_exp' and \n",
    "# 'experimental' control variables.\n",
    "shut_pulse = qd.circuit.ControlPulse('shuttle_exp', 'experimental', \n",
    "                                    pulse_length=pulse_length)\n",
    "\n",
    "# Add each voltage control variable now to the ControlPulse object\n",
    "shut_pulse.add_control_variable('V2',shuttle_pulse[:,0])\n",
    "shut_pulse.add_control_variable('V3',shuttle_pulse[:,1])\n",
    "shut_pulse.add_control_variable('V4',shuttle_pulse[:,2])\n",
    "# Specify a time array to correspond to each voltage configuration in the pulse\n",
    "ctrl_time = pulse_length*np.array([0, 1/20, 1/4, 1/2-1/20, 1/2, 1/2+1/20, 3/4, 19/20, 1])\n",
    "shut_pulse.add_control_variable('Time',ctrl_time)"
   ]
  },
  {
   "cell_type": "markdown",
   "metadata": {},
   "source": [
    "You can visualize the shuttling control pulse using `ControlPulse`'s `.plot()` method."
   ]
  },
  {
   "cell_type": "code",
   "execution_count": null,
   "metadata": {},
   "outputs": [],
   "source": [
    "shut_pulse.plot()"
   ]
  },
  {
   "cell_type": "markdown",
   "metadata": {},
   "source": [
    "You can see how we quickly sweep the voltages when we are far away from the resonant tunnel coupling points where we can do so without affecting the adiabaticity of the shuttling process.\n",
    "\n",
    "Before moving along to the next step which involves us actually simulating using this pulse, you can easily change the length of the control pulse by using the `set_pulse_length` method of `ControlPulse`."
   ]
  },
  {
   "cell_type": "code",
   "execution_count": null,
   "metadata": {},
   "outputs": [],
   "source": [
    "# Change total pulse length to 1 ns\n",
    "shut_pulse.set_pulse_length(1E-9)\n",
    "shut_pulse.plot()\n",
    "\n",
    "# Change it back to 10 ps for our first actual simulation\n",
    "shut_pulse.set_pulse_length(10E-12)"
   ]
  },
  {
   "cell_type": "markdown",
   "metadata": {},
   "source": [
    "## 4. Evolving over time\n",
    "\n",
    "We will now go ahead and do a simulation using the shuttling pulse. The shuttling module has the `RSP_time_evolution_1D` method which is real space (RSP) time evolution of a 1D coordinate system. It uses the split-operator method to calculate the evolution. The default time step for each simulation frame is $5*10^{-16}$ seconds but can be changed using the `dt` keyword argument.\n",
    "\n",
    "Using the `show_animation` keyword argument, we can visualize the wave function evolution during the simulation. In addition, by specifying the `save_data` keyword argument, you can save the adiabaticity data of the evolution for later analysis in a .csv file. Unfortunately, the animation does not currently work in a jupyter notebook and must be ran from terminal."
   ]
  },
  {
   "cell_type": "code",
   "execution_count": null,
   "metadata": {},
   "outputs": [],
   "source": [
    "%matplotlib notebook\n",
    "shut.RSP_time_evolution_1D(pot_interp, shut_pulse, show_animation=False, save_data=False)"
   ]
  },
  {
   "cell_type": "markdown",
   "metadata": {},
   "source": [
    "## 5. Sweeping pulse lengths\n",
    "\n",
    "Now we will show how you can do sweeps of various pulses and plot the fidelity of the shuttling processes. When `save_data=True` the fidelity of the shuttling process is calculated and saved to a .csv file. You can specify the file name and directory to save at using the `save_name` and `save_dir` keyword arguments. The `save_overwrite` keyword argument will overwrite the save file if it already exists in the save location. If `save_overwrite=False`, then the old file will be moved to `save_name + '_ow'` to avoid being overwritten by the new data.\n",
    "\n",
    "In order to sweep over several control pulses, we must compile an iterable of ControlPulse objects and then pass that into the evolution function."
   ]
  },
  {
   "cell_type": "code",
   "execution_count": null,
   "metadata": {},
   "outputs": [],
   "source": [
    "%matplotlib inline\n",
    "\n",
    "# Sweep over many different pulse lengths\n",
    "pulse_lengths = [10E-12, 30E-12, 50E-12, 100E-12, 300E-12, 500E-12]\n",
    "\n",
    "# Make list of all control pulses we want to simulate\n",
    "shut_pulses = []\n",
    "for idx, pulse_len in enumerate(pulse_lengths):\n",
    "    curr_shut_pulse = shut_pulse.copy()\n",
    "    curr_shut_pulse.set_pulse_length(pulse_len)\n",
    "    shut_pulses.append(curr_shut_pulse)\n",
    "\n",
    "# Pass all control pulses to simulator\n",
    "shut.RSP_time_evolution_1D(pot_interp, shut_pulses, show_animation=False,\n",
    "                           save_data=True, save_name='adiab_data.csv', save_overwrite=True)"
   ]
  },
  {
   "cell_type": "markdown",
   "metadata": {},
   "source": [
    "Now we will plot the fidelity of the shuttled state with respect to the ground state. The x-axis is the normalized time axis. We can see that as the pulses get slower, the fidelity improves due to the process being more adiabatic."
   ]
  },
  {
   "cell_type": "code",
   "execution_count": null,
   "metadata": {},
   "outputs": [],
   "source": [
    "import pandas as pd\n",
    "import matplotlib.pyplot as plt\n",
    "%matplotlib inline\n",
    "\n",
    "df = pd.read_csv(\"adiab_data.csv\") \n",
    "grpd = df.groupby(['Pulse length'])['Fidelity-0'] \n",
    "fig, ax = plt.subplots(1,1)\n",
    "for p_length, data in grpd:\n",
    "    plt.plot(np.linspace(0,1,data.values.size),data.values, label=np.round(p_length/1E-12,decimals=11))\n",
    "ax.set(xlabel='t/T',ylabel='Fidelity')\n",
    "plt.legend(title='Pulse length [ps]')\n"
   ]
  },
  {
   "cell_type": "code",
   "execution_count": null,
   "metadata": {},
   "outputs": [],
   "source": []
  }
 ],
 "metadata": {
  "kernelspec": {
   "display_name": "Python 3",
   "language": "python",
   "name": "python3"
  },
  "language_info": {
   "codemirror_mode": {
    "name": "ipython",
    "version": 3
   },
   "file_extension": ".py",
   "mimetype": "text/x-python",
   "name": "python",
   "nbconvert_exporter": "python",
   "pygments_lexer": "ipython3",
   "version": "3.8.5"
  }
 },
 "nbformat": 4,
 "nbformat_minor": 4
}